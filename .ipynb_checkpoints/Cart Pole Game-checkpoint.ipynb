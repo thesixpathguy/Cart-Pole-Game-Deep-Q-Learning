{
 "cells": [
  {
   "cell_type": "code",
   "execution_count": null,
   "id": "1c7de76c",
   "metadata": {},
   "outputs": [],
   "source": [
    "import gym"
   ]
  },
  {
   "cell_type": "code",
   "execution_count": null,
   "id": "5317ea04",
   "metadata": {},
   "outputs": [],
   "source": [
    "env=gym.make('CartPole-v0')"
   ]
  },
  {
   "cell_type": "code",
   "execution_count": null,
   "id": "b01496c7",
   "metadata": {},
   "outputs": [],
   "source": [
    "env.action_space"
   ]
  },
  {
   "cell_type": "code",
   "execution_count": null,
   "id": "1c06af5a",
   "metadata": {},
   "outputs": [],
   "source": [
    "env.observation_space\n",
    "\n"
   ]
  },
  {
   "cell_type": "code",
   "execution_count": null,
   "id": "922f75bd",
   "metadata": {},
   "outputs": [],
   "source": [
    "env.observation_space.shape[0]\n"
   ]
  },
  {
   "cell_type": "code",
   "execution_count": null,
   "id": "d196707d",
   "metadata": {},
   "outputs": [],
   "source": [
    "env.reset"
   ]
  },
  {
   "cell_type": "code",
   "execution_count": null,
   "id": "0f75b1e1",
   "metadata": {},
   "outputs": [],
   "source": [
    "import numpy as np\n",
    "import os\n",
    "import matplotlib.pyplot as plt\n",
    "from collections import deque\n",
    "import random\n",
    "import tensorflow as tf\n",
    "from tensorflow import keras\n",
    "physical_devices=tf.config.list_physical_devices(\"GPU\")\n",
    "tf.config.experimental.set_memory_growth(physical_devices[0],True)\n",
    "\n"
   ]
  },
  {
   "cell_type": "code",
   "execution_count": null,
   "id": "b899fcce",
   "metadata": {},
   "outputs": [],
   "source": [
    "class Agent:\n",
    "    def __init__(self,state_size,action_size):\n",
    "        self.state_size=state_size\n",
    "        self.action_size=action_size\n",
    "        self.memory=deque(maxlen=2000)\n",
    "        self.gamma=0.95 #discount factor\n",
    "        self.epsilon=1.0\n",
    "        self.epsilon_decay=0.995\n",
    "        self.minn_epsilon=0.01\n",
    "        self.learning_rate=0.001\n",
    "        self.model=self.create_model()\n",
    "        \n",
    "    def create_model(self):\n",
    "        model=keras.Sequential()\n",
    "        model.add(keras.layers.Dense(units=24,input_shape=[self.state_size],activation=tf.nn.relu))\n",
    "        model.add(keras.layers.Dense(units=24,activation=tf.nn.relu))\n",
    "        model.add(keras.layers.Dense(units=2,activation=tf.keras.activations.linear))\n",
    "        model.compile(optimizer=tf.keras.optimizers.Adam(learning_rate=self.learning_rate),loss='mse')\n",
    "        return model\n",
    "    \n",
    "    def remember(self,state,action,reward,next_state,done):\n",
    "        self.memory.append((state,action,reward,next_state,done))\n",
    "        \n",
    "    def act(self,state):\n",
    "        if np.random.rand()<=self.epsilon:\n",
    "            return random.randrange(self.action_size)\n",
    "        else:\n",
    "            return np.argmax(self.model.predict(state)[0])\n",
    "    def train(self,batch_size):\n",
    "        mini_batch=random.sample(self.memory,batch_size)\n",
    "        for exp in mini_batch:\n",
    "            state,action,reward,next_state,done=exp\n",
    "            if not done:\n",
    "                target=reward+self.gamma*np.amax(self.model.predict(next_state)[0])\n",
    "            else:\n",
    "                target=reward\n",
    "            target_f=self.model.predict(state)\n",
    "            target_f[0][action]=target\n",
    "            self.model.fit(state,target_f,epochs=1,verbose=0)\n",
    "        if self.epsilon>self.minn_epsilon:\n",
    "            self.epsilon*=self.epsilon_decay\n",
    "            \n",
    "    def load(self,name):\n",
    "        self.model.load_weights(name)\n",
    "    def save(self,name):\n",
    "        self.model.save_weights(name)\n",
    "        \n",
    "        \n",
    "        \n",
    "        "
   ]
  },
  {
   "cell_type": "code",
   "execution_count": null,
   "id": "e931107b",
   "metadata": {},
   "outputs": [],
   "source": [
    "no_epi=1000\n",
    "output_dir=\"model_weights/\""
   ]
  },
  {
   "cell_type": "code",
   "execution_count": null,
   "id": "9e492030",
   "metadata": {},
   "outputs": [],
   "source": [
    "agent=Agent(state_size=4,action_size=2)\n",
    "done=False"
   ]
  },
  {
   "cell_type": "code",
   "execution_count": null,
   "id": "1d29abef",
   "metadata": {},
   "outputs": [],
   "source": [
    "for e in range (no_epi):\n",
    "    state=env.reset()\n",
    "    state=np.reshape(state,(1,4))\n",
    "    sum1=0\n",
    "    for t in range(5000):\n",
    "        env.render()\n",
    "        action=agent.act(state)\n",
    "        next_state,reward,done,other_info=env.step(action)\n",
    "        reward=reward if not done else -10\n",
    "        next_state=np.reshape(next_state,(1,4))\n",
    "        sum1=sum1+reward\n",
    "        agent.remember(state,action,reward,next_state,done)\n",
    "        state=next_state\n",
    "        if done:\n",
    "            print(\"game episode: {}/{} Score: {}\".format(e,no_epi,t))\n",
    "            break\n",
    "    if len(agent.memory)>32:\n",
    "        agent.train(32)\n",
    "    if e%50==0:\n",
    "        agent.save(output_dir+\"weights_\"+'{:04d}'.format(e)+'.hdf5')\n",
    "\n",
    "print(\"deep q learner trained\")\n",
    "env.close()\n",
    "            \n",
    "        "
   ]
  },
  {
   "cell_type": "code",
   "execution_count": null,
   "id": "abad46dc",
   "metadata": {},
   "outputs": [],
   "source": []
  }
 ],
 "metadata": {
  "kernelspec": {
   "display_name": "Python 3",
   "language": "python",
   "name": "python3"
  },
  "language_info": {
   "codemirror_mode": {
    "name": "ipython",
    "version": 3
   },
   "file_extension": ".py",
   "mimetype": "text/x-python",
   "name": "python",
   "nbconvert_exporter": "python",
   "pygments_lexer": "ipython3",
   "version": "3.8.8"
  }
 },
 "nbformat": 4,
 "nbformat_minor": 5
}
